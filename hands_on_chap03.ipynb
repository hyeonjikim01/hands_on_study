{
 "cells": [
  {
   "cell_type": "markdown",
   "id": "382afe0d",
   "metadata": {},
   "source": [
    "## Chap 03 Classification"
   ]
  },
  {
   "cell_type": "code",
   "execution_count": null,
   "id": "2071b084",
   "metadata": {},
   "outputs": [],
   "source": [
    "## load dataset\n",
    "\n",
    "from sklearn.datasets import fetch_openml\n",
    "\n",
    "mnist = fetch_openml('mnist_784', as_frame=False) # 데이터셋이 이미지 -> 데이터 프레임에 안 맞음 as_frame=False는 넘파이 배열로 데이터를 받음"
   ]
  },
  {
   "cell_type": "code",
   "execution_count": null,
   "id": "a5f8ef84",
   "metadata": {},
   "outputs": [],
   "source": []
  },
  {
   "cell_type": "code",
   "execution_count": null,
   "id": "c1eb9240",
   "metadata": {},
   "outputs": [],
   "source": []
  }
 ],
 "metadata": {
  "kernelspec": {
   "display_name": "Python (pandas2)",
   "language": "python",
   "name": "pandas2"
  },
  "language_info": {
   "codemirror_mode": {
    "name": "ipython",
    "version": 3
   },
   "file_extension": ".py",
   "mimetype": "text/x-python",
   "name": "python",
   "nbconvert_exporter": "python",
   "pygments_lexer": "ipython3",
   "version": "3.10.18"
  }
 },
 "nbformat": 4,
 "nbformat_minor": 5
}
